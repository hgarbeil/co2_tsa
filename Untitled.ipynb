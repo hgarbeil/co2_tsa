{
 "cells": [
  {
   "cell_type": "code",
   "execution_count": null,
   "id": "a3eceadf-2a0f-4134-aa22-d6c867f224c9",
   "metadata": {},
   "outputs": [],
   "source": [
    "# create environment for the notebook in conda\n",
    "! conda create -n newdash -c conda-forge jupyter jupyter-lab pandas panel hvplot"
   ]
  }
 ],
 "metadata": {
  "kernelspec": {
   "display_name": "Python 3 (ipykernel)",
   "language": "python",
   "name": "python3"
  },
  "language_info": {
   "codemirror_mode": {
    "name": "ipython",
    "version": 3
   },
   "file_extension": ".py",
   "mimetype": "text/x-python",
   "name": "python",
   "nbconvert_exporter": "python",
   "pygments_lexer": "ipython3",
   "version": "3.9.13"
  }
 },
 "nbformat": 4,
 "nbformat_minor": 5
}
