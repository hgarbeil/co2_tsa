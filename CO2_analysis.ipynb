{
 "cells": [
  {
   "cell_type": "code",
   "execution_count": 52,
   "id": "24ae1ade-09c2-43f2-84f0-ef67913a01b5",
   "metadata": {},
   "outputs": [],
   "source": [
    "import panel as pn\n",
    "import altair as alt\n",
    "from altair import datum\n",
    "import pandas as pd\n",
    "from vega_datasets import data\n",
    "import datetime as dt\n",
    "import hvplot.pandas\n",
    "import numpy as np\n",
    "\n",
    "pn.extension('tabulator')\n",
    "pn.extension(comms='ipywidgets')\n"
   ]
  },
  {
   "cell_type": "code",
   "execution_count": 53,
   "id": "bed90093-6345-4d21-90d7-8ae3c06a4d72",
   "metadata": {},
   "outputs": [],
   "source": [
    "alt.renderers.enable('default')\n",
    "pn.extension('vega')"
   ]
  },
  {
   "cell_type": "code",
   "execution_count": 54,
   "id": "896d3f72-69c5-422f-8a4a-805ccd2cf997",
   "metadata": {},
   "outputs": [
    {
     "data": {
      "application/vnd.jupyter.widget-view+json": {
       "model_id": "be05d36420654f9da4afcb7a466c8daf",
       "version_major": 2,
       "version_minor": 0
      },
      "text/plain": [
       "BokehModel(combine_events=True, render_bundle={'docs_json': {'467fedc8-02d0-4a90-9917-75b8a32c290c': {'defs': …"
      ]
     },
     "execution_count": 54,
     "metadata": {},
     "output_type": "execute_result"
    }
   ],
   "source": [
    "year_slider=pn.widgets.IntSlider(name='Year slider',start=1950, end=2020, step=2,value=2008)\n",
    "year_slider\n",
    "co2_rb = pn.widgets.RadioButtonGroup(name='CO2 rb',options=['co2','co2_per_capita'],button_type='success')\n",
    "co2_rb"
   ]
  },
  {
   "cell_type": "code",
   "execution_count": 55,
   "id": "0e7d767e-5cb1-4dc2-85e1-f977b76b8bee",
   "metadata": {},
   "outputs": [
    {
     "data": {
      "text/plain": [
       "Index(['country', 'year', 'iso_code', 'population', 'gdp', 'cement_co2',\n",
       "       'cement_co2_per_capita', 'co2', 'co2_growth_abs', 'co2_growth_prct',\n",
       "       'co2_including_luc', 'co2_including_luc_growth_abs',\n",
       "       'co2_including_luc_growth_prct', 'co2_including_luc_per_capita',\n",
       "       'co2_including_luc_per_gdp', 'co2_including_luc_per_unit_energy',\n",
       "       'co2_per_capita', 'co2_per_gdp', 'co2_per_unit_energy', 'coal_co2',\n",
       "       'coal_co2_per_capita', 'consumption_co2', 'consumption_co2_per_capita',\n",
       "       'consumption_co2_per_gdp', 'cumulative_cement_co2', 'cumulative_co2',\n",
       "       'cumulative_co2_including_luc', 'cumulative_coal_co2',\n",
       "       'cumulative_flaring_co2', 'cumulative_gas_co2', 'cumulative_luc_co2',\n",
       "       'cumulative_oil_co2', 'cumulative_other_co2', 'energy_per_capita',\n",
       "       'energy_per_gdp', 'flaring_co2', 'flaring_co2_per_capita', 'gas_co2',\n",
       "       'gas_co2_per_capita', 'ghg_excluding_lucf_per_capita', 'ghg_per_capita',\n",
       "       'land_use_change_co2', 'land_use_change_co2_per_capita', 'methane',\n",
       "       'methane_per_capita', 'nitrous_oxide', 'nitrous_oxide_per_capita',\n",
       "       'oil_co2', 'oil_co2_per_capita', 'other_co2_per_capita',\n",
       "       'other_industry_co2', 'primary_energy_consumption',\n",
       "       'share_global_cement_co2', 'share_global_co2',\n",
       "       'share_global_co2_including_luc', 'share_global_coal_co2',\n",
       "       'share_global_cumulative_cement_co2', 'share_global_cumulative_co2',\n",
       "       'share_global_cumulative_co2_including_luc',\n",
       "       'share_global_cumulative_coal_co2',\n",
       "       'share_global_cumulative_flaring_co2',\n",
       "       'share_global_cumulative_gas_co2', 'share_global_cumulative_luc_co2',\n",
       "       'share_global_cumulative_oil_co2', 'share_global_cumulative_other_co2',\n",
       "       'share_global_flaring_co2', 'share_global_gas_co2',\n",
       "       'share_global_luc_co2', 'share_global_oil_co2',\n",
       "       'share_global_other_co2', 'total_ghg', 'total_ghg_excluding_lucf',\n",
       "       'trade_co2', 'trade_co2_share'],\n",
       "      dtype='object')"
      ]
     },
     "execution_count": 55,
     "metadata": {},
     "output_type": "execute_result"
    }
   ],
   "source": [
    "#source = data.stocks()\n",
    "#source = pd.DataFrame(source)\n",
    "source =pd.read_csv('https://raw.githubusercontent.com/owid/co2-data/master/owid-co2-data.csv')\n",
    "source.columns\n"
   ]
  },
  {
   "cell_type": "code",
   "execution_count": 67,
   "id": "c83c97be-8ab2-45b7-b636-978a2917bfd5",
   "metadata": {},
   "outputs": [
    {
     "data": {
      "application/vnd.jupyter.widget-view+json": {
       "model_id": "fb05be3d0dac426fa5a04e0d739bb0fc",
       "version_major": 2,
       "version_minor": 0
      },
      "text/plain": [
       "BokehModel(combine_events=True, render_bundle={'docs_json': {'08b4fcc1-1c33-435d-b2b7-0b2aad7f0ac8': {'defs': …"
      ]
     },
     "execution_count": 67,
     "metadata": {},
     "output_type": "execute_result"
    }
   ],
   "source": [
    "pigs=['United States','China','India','Russia','Japan','Germany','Iran','Saudi Arabia','South Korea']\n",
    "continents=['World','Asia','Oceania','Europe','Africa','North America','South America','Antarctica']\n",
    "\n",
    "source.fillna(0)\n",
    "countries=source['country'].unique().tolist()\n",
    "source['co2_per_cap100k']=np.where(source.population !=0,source.co2/source.population*10e5,0)\n",
    "idf_full=source.interactive()\n",
    "# print(countries)\n",
    "ticker = pn.widgets.Select(name='Country', options=countries)\n",
    "\n",
    "idf_sub = idf_full[(idf_full.country.isin(pigs)) & (idf_full.year > year_slider)]\n",
    "\n",
    "# china_df = source[source.country == 'China']\n",
    "# usa_df.head()\n",
    "# chart = alt.Chart(usa_df).mark_line().encode(x='year', y='co2',      \n",
    "#         tooltip=alt.Tooltip(['year','co2']))\n",
    "# chart\n",
    "\n",
    "cusa = idf_sub.hvplot(x='year',y=co2_rb,by='country',title='CO2 Emission').opts(framewise=True) \n",
    "cusa\n",
    "#ticker"
   ]
  },
  {
   "cell_type": "code",
   "execution_count": 68,
   "id": "f0586f42-262d-458b-aecf-e0997505f73f",
   "metadata": {},
   "outputs": [],
   "source": [
    "idf_sub=idf_full[(idf_full['year']==year_slider) & (idf_full.country.isin(pigs))].groupby(['country','year'])[co2_rb].mean().to_frame().reset_index().sort_values(by='year').reset_index(drop=True)"
   ]
  },
  {
   "cell_type": "code",
   "execution_count": 70,
   "id": "732a5d85-f956-4f62-84e7-d68dd537852f",
   "metadata": {},
   "outputs": [
    {
     "data": {
      "application/vnd.jupyter.widget-view+json": {
       "model_id": "7ce98003ea7b4012b13dad68e865fc90",
       "version_major": 2,
       "version_minor": 0
      },
      "text/plain": [
       "BokehModel(combine_events=True, render_bundle={'docs_json': {'d68ce935-a0fd-485e-8435-5b2d67beb90f': {'defs': …"
      ]
     },
     "execution_count": 70,
     "metadata": {},
     "output_type": "execute_result"
    }
   ],
   "source": [
    "idf_sub.head()\n",
    "co2_table=idf_sub.pipe(pn.widgets.Tabulator, pagination='remote',page_size=10,sizing_mode='stretch_width')\n",
    "co2_table"
   ]
  },
  {
   "cell_type": "code",
   "execution_count": 74,
   "id": "da5a7a45-6199-4636-8818-8fc315e6784b",
   "metadata": {},
   "outputs": [
    {
     "data": {
      "application/vnd.jupyter.widget-view+json": {
       "model_id": "b1e29927def3477c86be82b7d3bbcdcf",
       "version_major": 2,
       "version_minor": 0
      },
      "text/plain": [
       "BokehModel(combine_events=True, render_bundle={'docs_json': {'465e22c3-8b34-41b3-9b47-02c742daed03': {'defs': …"
      ]
     },
     "execution_count": 74,
     "metadata": {},
     "output_type": "execute_result"
    }
   ],
   "source": [
    "dashboard = pn.Row(\n",
    "    pn.Column(year_slider,co2_rb,co2_table.panel()),\n",
    "    pn.Column(cusa.panel(),)\n",
    ")\n",
    "dashboard.servable()"
   ]
  },
  {
   "cell_type": "code",
   "execution_count": 25,
   "id": "119de437-98e8-4116-a696-e7a236a72efd",
   "metadata": {},
   "outputs": [
    {
     "data": {
      "application/vnd.jupyter.widget-view+json": {
       "model_id": "91acd4e8dceb4673b139a0ac17b6ed14",
       "version_major": 2,
       "version_minor": 0
      },
      "text/plain": [
       "BokehModel(combine_events=True, render_bundle={'docs_json': {'1ff52bfd-9a18-4249-8911-a1c3dd12a474': {'defs': …"
      ]
     },
     "execution_count": 25,
     "metadata": {},
     "output_type": "execute_result"
    }
   ],
   "source": [
    "# go back to the source dataframe and calculate gdp/capita\n",
    "\n",
    "idf_sub = idf_full[(idf_full.country.isin(pigs)) & (idf_full.year > year_slider)]\n",
    "co2_per_cap_plot = idf_sub.hvplot(x='year',y='co2_per_cap100k',by='country',title='CO2 per 100k Persons').opts(framewise=True) \n",
    "co2_per_cap_plot"
   ]
  },
  {
   "cell_type": "code",
   "execution_count": 69,
   "id": "4a43bf2b-1554-49dd-95f0-001f4346779a",
   "metadata": {},
   "outputs": [],
   "source": [
    "# create list of company names (tickers) to use as options\n",
    "tickers = ['AAPL', 'GOOG', 'IBM', 'MSFT']\n",
    "# this creates the dropdown widget\n",
    "ticker = pn.widgets.Select(name='Company', options=tickers)\n"
   ]
  },
  {
   "cell_type": "code",
   "execution_count": 24,
   "id": "cc875f49-1c6d-40dc-bf57-66aed23e4635",
   "metadata": {},
   "outputs": [],
   "source": [
    "title='Stock Price Dashboard'\n",
    "subtitle='Dis and vis of stock price of selected company'"
   ]
  },
  {
   "cell_type": "code",
   "execution_count": 23,
   "id": "44c80b38-6177-406f-94fb-efbefd0598b9",
   "metadata": {},
   "outputs": [],
   "source": [
    "# this creates the date range slider\n",
    "date_range_slider = pn.widgets.DateRangeSlider(\n",
    "name='Date Range Slider',\n",
    "start=dt.datetime(2001, 1, 1), end=dt.datetime(2010, 1, 1),\n",
    "value=(dt.datetime(2001, 1, 1), dt.datetime(2010, 1, 1))\n",
    ")\n",
    "# date_range_slider"
   ]
  },
  {
   "cell_type": "code",
   "execution_count": 25,
   "id": "a8bba906-5b55-4358-8009-b0e992cd5161",
   "metadata": {},
   "outputs": [],
   "source": [
    "@pn.depends(ticker.param.value, date_range_slider.param.value)\n",
    "def get_plot(ticker, date_range):\n",
    "     # Load and format the data\n",
    "     df = source # define df\n",
    "     df['date'] = pd.to_datetime(df['date'])\n",
    "     # create date filter using values from the range slider\n",
    "     # store the first and last date range slider value in a var\n",
    "     start_date = date_range_slider.value[0] \n",
    "     end_date = date_range_slider.value[1] \n",
    "     # create filter mask for the dataframe\n",
    "     mask = (df['date']> start_date) & (df['date'] <= end_date)\n",
    "     df = df.loc[mask] # filter the dataframe\n",
    "     # create the Altair chart object\n",
    "     chart = alt.Chart(df).mark_line().encode(x='date', y='price',      \n",
    "        tooltip=alt.Tooltip(['date','price'])).transform_filter(\n",
    "        (datum.symbol == ticker) # this ties in the filter \n",
    "        )\n",
    "     return chart"
   ]
  },
  {
   "cell_type": "code",
   "execution_count": null,
   "id": "bf608057-cb9f-4c71-b643-f6c6dd00e584",
   "metadata": {},
   "outputs": [],
   "source": []
  },
  {
   "cell_type": "code",
   "execution_count": 26,
   "id": "a6e62fdd-d455-4be1-a546-e1719ea0ff81",
   "metadata": {},
   "outputs": [],
   "source": [
    "dashboard = pn.Row(pn.Column(title, subtitle, ticker, date_range_slider),\n",
    "    get_plot) # our draw chart function!\n"
   ]
  },
  {
   "cell_type": "code",
   "execution_count": 27,
   "id": "e777ea83-8c54-4fde-85eb-3d7cc5a8357c",
   "metadata": {},
   "outputs": [
    {
     "data": {},
     "metadata": {},
     "output_type": "display_data"
    },
    {
     "data": {
      "application/vnd.holoviews_exec.v0+json": "",
      "text/html": [
       "<div id='1009'>\n",
       "  <div class=\"bk-root\" id=\"7ba406cf-11df-4fb7-b7a8-79305e7c1c88\" data-root-id=\"1009\"></div>\n",
       "</div>\n",
       "<script type=\"application/javascript\">(function(root) {\n",
       "  function embed_document(root) {\n",
       "    var docs_json = {\"717de042-fc26-4b86-a6bc-7b6e117ac332\":{\"defs\":[{\"extends\":null,\"module\":null,\"name\":\"ReactiveHTML1\",\"overrides\":[],\"properties\":[]},{\"extends\":null,\"module\":null,\"name\":\"FlexBox1\",\"overrides\":[],\"properties\":[{\"default\":\"flex-start\",\"kind\":null,\"name\":\"align_content\"},{\"default\":\"flex-start\",\"kind\":null,\"name\":\"align_items\"},{\"default\":\"row\",\"kind\":null,\"name\":\"flex_direction\"},{\"default\":\"wrap\",\"kind\":null,\"name\":\"flex_wrap\"},{\"default\":\"flex-start\",\"kind\":null,\"name\":\"justify_content\"}]},{\"extends\":null,\"module\":null,\"name\":\"GridStack1\",\"overrides\":[],\"properties\":[{\"default\":\"warn\",\"kind\":null,\"name\":\"mode\"},{\"default\":null,\"kind\":null,\"name\":\"ncols\"},{\"default\":null,\"kind\":null,\"name\":\"nrows\"},{\"default\":true,\"kind\":null,\"name\":\"allow_resize\"},{\"default\":true,\"kind\":null,\"name\":\"allow_drag\"},{\"default\":[],\"kind\":null,\"name\":\"state\"}]},{\"extends\":null,\"module\":null,\"name\":\"click1\",\"overrides\":[],\"properties\":[{\"default\":\"\",\"kind\":null,\"name\":\"terminal_output\"},{\"default\":\"\",\"kind\":null,\"name\":\"debug_name\"},{\"default\":0,\"kind\":null,\"name\":\"clears\"}]},{\"extends\":null,\"module\":null,\"name\":\"NotificationAreaBase1\",\"overrides\":[],\"properties\":[{\"default\":\"bottom-right\",\"kind\":null,\"name\":\"position\"},{\"default\":0,\"kind\":null,\"name\":\"_clear\"}]},{\"extends\":null,\"module\":null,\"name\":\"NotificationArea1\",\"overrides\":[],\"properties\":[{\"default\":[],\"kind\":null,\"name\":\"notifications\"},{\"default\":\"bottom-right\",\"kind\":null,\"name\":\"position\"},{\"default\":0,\"kind\":null,\"name\":\"_clear\"},{\"default\":[{\"background\":\"#ffc107\",\"icon\":{\"className\":\"fas fa-exclamation-triangle\",\"color\":\"white\",\"tagName\":\"i\"},\"type\":\"warning\"},{\"background\":\"#007bff\",\"icon\":{\"className\":\"fas fa-info-circle\",\"color\":\"white\",\"tagName\":\"i\"},\"type\":\"info\"}],\"kind\":null,\"name\":\"types\"}]},{\"extends\":null,\"module\":null,\"name\":\"Notification\",\"overrides\":[],\"properties\":[{\"default\":null,\"kind\":null,\"name\":\"background\"},{\"default\":3000,\"kind\":null,\"name\":\"duration\"},{\"default\":null,\"kind\":null,\"name\":\"icon\"},{\"default\":\"\",\"kind\":null,\"name\":\"message\"},{\"default\":null,\"kind\":null,\"name\":\"notification_type\"},{\"default\":false,\"kind\":null,\"name\":\"_destroyed\"}]},{\"extends\":null,\"module\":null,\"name\":\"TemplateActions1\",\"overrides\":[],\"properties\":[{\"default\":0,\"kind\":null,\"name\":\"open_modal\"},{\"default\":0,\"kind\":null,\"name\":\"close_modal\"}]},{\"extends\":null,\"module\":null,\"name\":\"MaterialTemplateActions1\",\"overrides\":[],\"properties\":[{\"default\":0,\"kind\":null,\"name\":\"open_modal\"},{\"default\":0,\"kind\":null,\"name\":\"close_modal\"}]}],\"roots\":{\"references\":[{\"attributes\":{\"children\":[{\"id\":\"1010\"},{\"id\":\"1015\"}],\"margin\":[0,0,0,0],\"name\":\"Row00138\"},\"id\":\"1009\",\"type\":\"Row\"},{\"attributes\":{\"children\":[{\"id\":\"1011\"},{\"id\":\"1012\"},{\"id\":\"1013\"},{\"id\":\"1014\"}],\"margin\":[0,0,0,0],\"name\":\"Column00129\"},\"id\":\"1010\",\"type\":\"Column\"},{\"attributes\":{},\"id\":\"1018\",\"type\":\"UnionRenderers\"},{\"attributes\":{\"css_classes\":[\"markdown\"],\"margin\":[5,5,5,5],\"name\":\"Markdown00125\",\"text\":\"&lt;p&gt;Stock Price Dashboard&lt;/p&gt;\"},\"id\":\"1011\",\"type\":\"panel.models.markup.HTML\"},{\"attributes\":{\"margin\":[5,10,5,10],\"options\":[\"AAPL\",\"GOOG\",\"IBM\",\"MSFT\"],\"title\":\"Company\",\"value\":\"AAPL\"},\"id\":\"1013\",\"type\":\"panel.models.widgets.CustomSelect\"},{\"attributes\":{},\"id\":\"1019\",\"type\":\"Selection\"},{\"attributes\":{\"reload\":false},\"id\":\"1031\",\"type\":\"panel.models.location.Location\"},{\"attributes\":{\"css_classes\":[\"markdown\"],\"margin\":[5,5,5,5],\"name\":\"Markdown00127\",\"text\":\"&lt;p&gt;Dis and vis of stock price of selected company&lt;/p&gt;\"},\"id\":\"1012\",\"type\":\"panel.models.markup.HTML\"},{\"attributes\":{\"children\":[{\"id\":\"1017\"}],\"margin\":[0,0,0,0],\"name\":\"Row00134\"},\"id\":\"1015\",\"type\":\"Row\"},{\"attributes\":{\"end\":1262304000000.0,\"margin\":[5,10,5,10],\"start\":978307200000.0,\"title\":\"Date Range Slider\",\"value\":[978307200000.0,1262304000000.0]},\"id\":\"1014\",\"type\":\"DateRangeSlider\"},{\"attributes\":{\"data\":{\"$schema\":\"https://vega.github.io/schema/vega-lite/v4.17.0.json\",\"config\":{\"view\":{\"continuousHeight\":300,\"continuousWidth\":400}},\"data\":{\"name\":\"data-0b3fcc60370401b5761c3f4eedf963f4\"},\"datasets\":{},\"encoding\":{\"tooltip\":[{\"field\":\"date\",\"type\":\"temporal\"},{\"field\":\"price\",\"type\":\"quantitative\"}],\"x\":{\"field\":\"date\",\"type\":\"temporal\"},\"y\":{\"field\":\"price\",\"type\":\"quantitative\"}},\"mark\":\"line\",\"transform\":[{\"filter\":\"(datum.symbol === 'AAPL')\"}]},\"data_sources\":{\"data-0b3fcc60370401b5761c3f4eedf963f4\":{\"id\":\"1016\"}},\"height\":322,\"margin\":[5,5,5,5],\"subscribed_events\":[\"vega_event\"],\"width\":422},\"id\":\"1017\",\"type\":\"panel.models.vega.VegaPlot\"},{\"attributes\":{\"client_comm_id\":\"366ac4d82cdc47269aebd863d9e4bb71\",\"comm_id\":\"65d6c37c84a74ed59746f2c9e93ad2e3\",\"plot_id\":\"1009\"},\"id\":\"1024\",\"type\":\"panel.models.comm_manager.CommManager\"},{\"attributes\":{\"data\":{\"date\":{\"__ndarray__\":\"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\",\"dtype\":\"float64\",\"order\":\"little\",\"shape\":[498]},\"index\":[13,14,15,16,17,18,19,20,21,22,23,24,25,26,27,28,29,30,31,32,33,34,35,36,37,38,39,40,41,42,43,44,45,46,47,48,49,50,51,52,53,54,55,56,57,58,59,60,61,62,63,64,65,66,67,68,69,70,71,72,73,74,75,76,77,78,79,80,81,82,83,84,85,86,87,88,89,90,91,92,93,94,95,96,97,98,99,100,101,102,103,104,105,106,107,108,109,110,111,112,113,114,115,116,117,118,119,120,136,137,138,139,140,141,142,143,144,145,146,147,148,149,150,151,152,153,154,155,156,157,158,159,160,161,162,163,164,165,166,167,168,169,170,171,172,173,174,175,176,177,178,179,180,181,182,183,184,185,186,187,188,189,190,191,192,193,194,195,196,197,198,199,200,201,202,203,204,205,206,207,208,209,210,211,212,213,214,215,216,217,218,219,220,221,222,223,224,225,226,227,228,229,230,231,232,233,234,235,236,237,238,239,240,241,242,243,259,260,261,262,263,264,265,266,267,268,269,270,271,272,273,274,275,276,277,278,279,280,281,282,283,284,285,286,287,288,289,290,291,292,293,294,295,296,297,298,299,300,301,302,303,304,305,306,307,308,309,310,311,312,313,314,315,316,317,318,319,320,321,322,323,324,325,326,327,328,329,330,331,332,333,334,335,336,337,338,339,340,341,342,343,344,345,346,347,348,349,350,351,352,353,354,355,356,357,358,359,360,361,362,363,364,365,366,369,370,371,372,373,374,375,376,377,378,379,380,381,382,383,384,385,386,387,388,389,390,391,392,393,394,395,396,397,398,399,400,401,402,403,404,405,406,407,408,409,410,411,412,413,414,415,416,417,418,419,420,421,422,423,424,425,426,427,428,429,430,431,432,433,434,450,451,452,453,454,455,456,457,458,459,460,461,462,463,464,465,466,467,468,469,470,471,472,473,474,475,476,477,478,479,480,481,482,483,484,485,486,487,488,489,490,491,492,493,494,495,496,497,498,499,500,501,502,503,504,505,506,507,508,509,510,511,512,513,514,515,516,517,518,519,520,521,522,523,524,525,526,527,528,529,530,531,532,533,534,535,536,537,538,539,540,541,542,543,544,545,546,547,548,549,550,551,552,553,554,555,556,557],\"price\":{\"__ndarray__\":\"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\",\"dtype\":\"float64\",\"order\":\"little\",\"shape\":[498]},\"symbol\":[\"MSFT\",\"MSFT\",\"MSFT\",\"MSFT\",\"MSFT\",\"MSFT\",\"MSFT\",\"MSFT\",\"MSFT\",\"MSFT\",\"MSFT\",\"MSFT\",\"MSFT\",\"MSFT\",\"MSFT\",\"MSFT\",\"MSFT\",\"MSFT\",\"MSFT\",\"MSFT\",\"MSFT\",\"MSFT\",\"MSFT\",\"MSFT\",\"MSFT\",\"MSFT\",\"MSFT\",\"MSFT\",\"MSFT\",\"MSFT\",\"MSFT\",\"MSFT\",\"MSFT\",\"MSFT\",\"MSFT\",\"MSFT\",\"MSFT\",\"MSFT\",\"MSFT\",\"MSFT\",\"MSFT\",\"MSFT\",\"MSFT\",\"MSFT\",\"MSFT\",\"MSFT\",\"MSFT\",\"MSFT\",\"MSFT\",\"MSFT\",\"MSFT\",\"MSFT\",\"MSFT\",\"MSFT\",\"MSFT\",\"MSFT\",\"MSFT\",\"MSFT\",\"MSFT\",\"MSFT\",\"MSFT\",\"MSFT\",\"MSFT\",\"MSFT\",\"MSFT\",\"MSFT\",\"MSFT\",\"MSFT\",\"MSFT\",\"MSFT\",\"MSFT\",\"MSFT\",\"MSFT\",\"MSFT\",\"MSFT\",\"MSFT\",\"MSFT\",\"MSFT\",\"MSFT\",\"MSFT\",\"MSFT\",\"MSFT\",\"MSFT\",\"MSFT\",\"MSFT\",\"MSFT\",\"MSFT\",\"MSFT\",\"MSFT\",\"MSFT\",\"MSFT\",\"MSFT\",\"MSFT\",\"MSFT\",\"MSFT\",\"MSFT\",\"MSFT\",\"MSFT\",\"MSFT\",\"MSFT\",\"MSFT\",\"MSFT\",\"MSFT\",\"MSFT\",\"MSFT\",\"MSFT\",\"MSFT\",\"MSFT\",\"AMZN\",\"AMZN\",\"AMZN\",\"AMZN\",\"AMZN\",\"AMZN\",\"AMZN\",\"AMZN\",\"AMZN\",\"AMZN\",\"AMZN\",\"AMZN\",\"AMZN\",\"AMZN\",\"AMZN\",\"AMZN\",\"AMZN\",\"AMZN\",\"AMZN\",\"AMZN\",\"AMZN\",\"AMZN\",\"AMZN\",\"AMZN\",\"AMZN\",\"AMZN\",\"AMZN\",\"AMZN\",\"AMZN\",\"AMZN\",\"AMZN\",\"AMZN\",\"AMZN\",\"AMZN\",\"AMZN\",\"AMZN\",\"AMZN\",\"AMZN\",\"AMZN\",\"AMZN\",\"AMZN\",\"AMZN\",\"AMZN\",\"AMZN\",\"AMZN\",\"AMZN\",\"AMZN\",\"AMZN\",\"AMZN\",\"AMZN\",\"AMZN\",\"AMZN\",\"AMZN\",\"AMZN\",\"AMZN\",\"AMZN\",\"AMZN\",\"AMZN\",\"AMZN\",\"AMZN\",\"AMZN\",\"AMZN\",\"AMZN\",\"AMZN\",\"AMZN\",\"AMZN\",\"AMZN\",\"AMZN\",\"AMZN\",\"AMZN\",\"AMZN\",\"AMZN\",\"AMZN\",\"AMZN\",\"AMZN\",\"AMZN\",\"AMZN\",\"AMZN\",\"AMZN\",\"AMZN\",\"AMZN\",\"AMZN\",\"AMZN\",\"AMZN\",\"AMZN\",\"AMZN\",\"AMZN\",\"AMZN\",\"AMZN\",\"AMZN\",\"AMZN\",\"AMZN\",\"AMZN\",\"AMZN\",\"AMZN\",\"AMZN\",\"AMZN\",\"AMZN\",\"AMZN\",\"AMZN\",\"AMZN\",\"AMZN\",\"AMZN\",\"AMZN\",\"AMZN\",\"AMZN\",\"AMZN\",\"AMZN\",\"IBM\",\"IBM\",\"IBM\",\"IBM\",\"IBM\",\"IBM\",\"IBM\",\"IBM\",\"IBM\",\"IBM\",\"IBM\",\"IBM\",\"IBM\",\"IBM\",\"IBM\",\"IBM\",\"IBM\",\"IBM\",\"IBM\",\"IBM\",\"IBM\",\"IBM\",\"IBM\",\"IBM\",\"IBM\",\"IBM\",\"IBM\",\"IBM\",\"IBM\",\"IBM\",\"IBM\",\"IBM\",\"IBM\",\"IBM\",\"IBM\",\"IBM\",\"IBM\",\"IBM\",\"IBM\",\"IBM\",\"IBM\",\"IBM\",\"IBM\",\"IBM\",\"IBM\",\"IBM\",\"IBM\",\"IBM\",\"IBM\",\"IBM\",\"IBM\",\"IBM\",\"IBM\",\"IBM\",\"IBM\",\"IBM\",\"IBM\",\"IBM\",\"IBM\",\"IBM\",\"IBM\",\"IBM\",\"IBM\",\"IBM\",\"IBM\",\"IBM\",\"IBM\",\"IBM\",\"IBM\",\"IBM\",\"IBM\",\"IBM\",\"IBM\",\"IBM\",\"IBM\",\"IBM\",\"IBM\",\"IBM\",\"IBM\",\"IBM\",\"IBM\",\"IBM\",\"IBM\",\"IBM\",\"IBM\",\"IBM\",\"IBM\",\"IBM\",\"IBM\",\"IBM\",\"IBM\",\"IBM\",\"IBM\",\"IBM\",\"IBM\",\"IBM\",\"IBM\",\"IBM\",\"IBM\",\"IBM\",\"IBM\",\"IBM\",\"IBM\",\"IBM\",\"IBM\",\"IBM\",\"IBM\",\"IBM\",\"GOOG\",\"GOOG\",\"GOOG\",\"GOOG\",\"GOOG\",\"GOOG\",\"GOOG\",\"GOOG\",\"GOOG\",\"GOOG\",\"GOOG\",\"GOOG\",\"GOOG\",\"GOOG\",\"GOOG\",\"GOOG\",\"GOOG\",\"GOOG\",\"GOOG\",\"GOOG\",\"GOOG\",\"GOOG\",\"GOOG\",\"GOOG\",\"GOOG\",\"GOOG\",\"GOOG\",\"GOOG\",\"GOOG\",\"GOOG\",\"GOOG\",\"GOOG\",\"GOOG\",\"GOOG\",\"GOOG\",\"GOOG\",\"GOOG\",\"GOOG\",\"GOOG\",\"GOOG\",\"GOOG\",\"GOOG\",\"GOOG\",\"GOOG\",\"GOOG\",\"GOOG\",\"GOOG\",\"GOOG\",\"GOOG\",\"GOOG\",\"GOOG\",\"GOOG\",\"GOOG\",\"GOOG\",\"GOOG\",\"GOOG\",\"GOOG\",\"GOOG\",\"GOOG\",\"GOOG\",\"GOOG\",\"GOOG\",\"GOOG\",\"GOOG\",\"GOOG\",\"GOOG\",\"AAPL\",\"AAPL\",\"AAPL\",\"AAPL\",\"AAPL\",\"AAPL\",\"AAPL\",\"AAPL\",\"AAPL\",\"AAPL\",\"AAPL\",\"AAPL\",\"AAPL\",\"AAPL\",\"AAPL\",\"AAPL\",\"AAPL\",\"AAPL\",\"AAPL\",\"AAPL\",\"AAPL\",\"AAPL\",\"AAPL\",\"AAPL\",\"AAPL\",\"AAPL\",\"AAPL\",\"AAPL\",\"AAPL\",\"AAPL\",\"AAPL\",\"AAPL\",\"AAPL\",\"AAPL\",\"AAPL\",\"AAPL\",\"AAPL\",\"AAPL\",\"AAPL\",\"AAPL\",\"AAPL\",\"AAPL\",\"AAPL\",\"AAPL\",\"AAPL\",\"AAPL\",\"AAPL\",\"AAPL\",\"AAPL\",\"AAPL\",\"AAPL\",\"AAPL\",\"AAPL\",\"AAPL\",\"AAPL\",\"AAPL\",\"AAPL\",\"AAPL\",\"AAPL\",\"AAPL\",\"AAPL\",\"AAPL\",\"AAPL\",\"AAPL\",\"AAPL\",\"AAPL\",\"AAPL\",\"AAPL\",\"AAPL\",\"AAPL\",\"AAPL\",\"AAPL\",\"AAPL\",\"AAPL\",\"AAPL\",\"AAPL\",\"AAPL\",\"AAPL\",\"AAPL\",\"AAPL\",\"AAPL\",\"AAPL\",\"AAPL\",\"AAPL\",\"AAPL\",\"AAPL\",\"AAPL\",\"AAPL\",\"AAPL\",\"AAPL\",\"AAPL\",\"AAPL\",\"AAPL\",\"AAPL\",\"AAPL\",\"AAPL\",\"AAPL\",\"AAPL\",\"AAPL\",\"AAPL\",\"AAPL\",\"AAPL\",\"AAPL\",\"AAPL\",\"AAPL\",\"AAPL\",\"AAPL\",\"AAPL\"]},\"selected\":{\"id\":\"1019\"},\"selection_policy\":{\"id\":\"1018\"}},\"id\":\"1016\",\"type\":\"ColumnDataSource\"}],\"root_ids\":[\"1009\",\"1024\",\"1031\"]},\"title\":\"Bokeh Application\",\"version\":\"2.4.3\"}};\n",
       "    var render_items = [{\"docid\":\"717de042-fc26-4b86-a6bc-7b6e117ac332\",\"root_ids\":[\"1009\"],\"roots\":{\"1009\":\"7ba406cf-11df-4fb7-b7a8-79305e7c1c88\"}}];\n",
       "    root.Bokeh.embed.embed_items_notebook(docs_json, render_items);\n",
       "    for (const render_item of render_items) {\n",
       "      for (const root_id of render_item.root_ids) {\n",
       "\tconst id_el = document.getElementById(root_id)\n",
       "\tif (id_el.children.length && (id_el.children[0].className === 'bk-root')) {\n",
       "\t  const root_el = id_el.children[0]\n",
       "\t  root_el.id = root_el.id + '-rendered'\n",
       "\t}\n",
       "      }\n",
       "    }\n",
       "  }\n",
       "  if (root.Bokeh !== undefined && root.Bokeh.Panel !== undefined && ( root['vega'] !== undefined)) {\n",
       "    embed_document(root);\n",
       "  } else {\n",
       "    var attempts = 0;\n",
       "    var timer = setInterval(function(root) {\n",
       "      if (root.Bokeh !== undefined && root.Bokeh.Panel !== undefined && (root['vega'] !== undefined)) {\n",
       "        clearInterval(timer);\n",
       "        embed_document(root);\n",
       "      } else if (document.readyState == \"complete\") {\n",
       "        attempts++;\n",
       "        if (attempts > 200) {\n",
       "          clearInterval(timer);\n",
       "          console.log(\"Bokeh: ERROR: Unable to run BokehJS code because BokehJS library is missing\");\n",
       "        }\n",
       "      }\n",
       "    }, 25, root)\n",
       "  }\n",
       "})(window);</script>"
      ],
      "text/plain": [
       "Row\n",
       "    [0] Column\n",
       "        [0] Markdown(str)\n",
       "        [1] Markdown(str)\n",
       "        [2] Select(name='Company', options=['AAPL', 'GOOG', ...], value='AAPL')\n",
       "        [3] DateRangeSlider(end=datetime.datetime(2010, ..., name='Date Range Slider', start=datetime.datetime(2001, ..., value=(datetime.datetime(2001, ..., value_end=datetime.datetime(2010, ..., value_start=datetime.datetime(2001, ...)\n",
       "    [1] ParamFunction(function, _pane=Vega)"
      ]
     },
     "execution_count": 27,
     "metadata": {
      "application/vnd.holoviews_exec.v0+json": {
       "id": "1009"
      }
     },
     "output_type": "execute_result"
    }
   ],
   "source": [
    "dashboard.servable()"
   ]
  },
  {
   "cell_type": "code",
   "execution_count": null,
   "id": "70ed140a-9610-4d75-b88b-2c246de3a00f",
   "metadata": {},
   "outputs": [],
   "source": []
  }
 ],
 "metadata": {
  "kernelspec": {
   "display_name": "Python 3 (ipykernel)",
   "language": "python",
   "name": "python3"
  },
  "language_info": {
   "codemirror_mode": {
    "name": "ipython",
    "version": 3
   },
   "file_extension": ".py",
   "mimetype": "text/x-python",
   "name": "python",
   "nbconvert_exporter": "python",
   "pygments_lexer": "ipython3",
   "version": "3.11.0"
  }
 },
 "nbformat": 4,
 "nbformat_minor": 5
}
